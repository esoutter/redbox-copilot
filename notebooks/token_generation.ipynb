{
 "cells": [
  {
   "cell_type": "markdown",
   "metadata": {},
   "source": [
    "# Token Generation\n",
    "\n",
    "In FastAPI you need to authorise your requests using tokens. We use JWT to encode the user_uuid calling on the service.\n",
    "\n",
    "You can modify the below to generate a token for a random user_uuid or a specific user_uuid."
   ]
  },
  {
   "cell_type": "code",
   "execution_count": null,
   "metadata": {},
   "outputs": [],
   "source": [
    "# !pip install python-jose"
   ]
  },
  {
   "cell_type": "code",
   "execution_count": 3,
   "metadata": {},
   "outputs": [
    {
     "ename": "ModuleNotFoundError",
     "evalue": "No module named 'jose'",
     "output_type": "error",
     "traceback": [
      "\u001b[0;31m---------------------------------------------------------------------------\u001b[0m",
      "\u001b[0;31mModuleNotFoundError\u001b[0m                       Traceback (most recent call last)",
      "\u001b[0;32m/var/folders/vd/0g9n4wls24xbpz561v5tw6300000gn/T/ipykernel_48833/2986006939.py\u001b[0m in \u001b[0;36m<module>\u001b[0;34m\u001b[0m\n\u001b[0;32m----> 1\u001b[0;31m \u001b[0;32mfrom\u001b[0m \u001b[0mjose\u001b[0m \u001b[0;32mimport\u001b[0m \u001b[0mjwt\u001b[0m\u001b[0;34m\u001b[0m\u001b[0;34m\u001b[0m\u001b[0m\n\u001b[0m\u001b[1;32m      2\u001b[0m \u001b[0;32mfrom\u001b[0m \u001b[0muuid\u001b[0m \u001b[0;32mimport\u001b[0m \u001b[0muuid4\u001b[0m\u001b[0;34m\u001b[0m\u001b[0;34m\u001b[0m\u001b[0m\n\u001b[1;32m      3\u001b[0m \u001b[0;34m\u001b[0m\u001b[0m\n\u001b[1;32m      4\u001b[0m \u001b[0;31m# my_uuid = str(uuid4())\u001b[0m\u001b[0;34m\u001b[0m\u001b[0;34m\u001b[0m\u001b[0m\n\u001b[1;32m      5\u001b[0m \u001b[0mmy_uuid\u001b[0m \u001b[0;34m=\u001b[0m \u001b[0;34m\"aaaaaaaa-aaaa-aaaa-aaaa-aaaaaaaaaaaa\"\u001b[0m\u001b[0;34m\u001b[0m\u001b[0;34m\u001b[0m\u001b[0m\n",
      "\u001b[0;31mModuleNotFoundError\u001b[0m: No module named 'jose'"
     ]
    }
   ],
   "source": [
    "from jose import jwt\n",
    "from uuid import uuid4\n",
    "\n",
    "# my_uuid = str(uuid4())\n",
    "my_uuid = \"aaaaaaaa-aaaa-aaaa-aaaa-aaaaaaaaaaaa\"\n",
    "\n",
    "token = jwt.encode({\"user_uuid\": my_uuid}, key=\"\")\n",
    "\n",
    "token"
   ]
  },
  {
   "cell_type": "markdown",
   "metadata": {},
   "source": [
    "Here is a screenshot of the authorisation button in FastAPI's Swagger UI:\n",
    "\n",
    "![docs/assets/token_gen_screenshot.png](../docs/assets/token_gen_screenshot.png)\n",
    "\n",
    "You'll need to copy and paste the token printed above into that field to authorise your requests."
   ]
  }
 ],
 "metadata": {
  "kernelspec": {
   "display_name": ".venv",
   "language": "python",
   "name": "python3"
  },
  "language_info": {
   "codemirror_mode": {
    "name": "ipython",
    "version": 3
   },
   "file_extension": ".py",
   "mimetype": "text/x-python",
   "name": "python",
   "nbconvert_exporter": "python",
   "pygments_lexer": "ipython3",
   "version": "3.11.9"
  }
 },
 "nbformat": 4,
 "nbformat_minor": 2
}
